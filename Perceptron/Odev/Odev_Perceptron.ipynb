{
 "cells": [
  {
   "cell_type": "code",
   "execution_count": 1,
   "metadata": {},
   "outputs": [],
   "source": [
    "import numpy as np"
   ]
  },
  {
   "cell_type": "code",
   "execution_count": 163,
   "metadata": {},
   "outputs": [],
   "source": [
    "x1 = np.array([[1],\n",
    "              [-2],\n",
    "              [0],\n",
    "              [-1]])\n",
    "\n",
    "x2 = np.array([[0],\n",
    "               [1.5],\n",
    "               [-0.5],\n",
    "               [-1]])\n",
    "\n",
    "x3 = np.array([[-1],\n",
    "               [1],\n",
    "               [0.5],\n",
    "               [-1]])"
   ]
  },
  {
   "cell_type": "code",
   "execution_count": 142,
   "metadata": {},
   "outputs": [],
   "source": [
    "w1 = np.array([1,-1,0,0.5])"
   ]
  },
  {
   "cell_type": "code",
   "execution_count": 143,
   "metadata": {},
   "outputs": [],
   "source": [
    "d1 = -1\n",
    "d2 = -1\n",
    "d3 = 1"
   ]
  },
  {
   "cell_type": "code",
   "execution_count": 144,
   "metadata": {},
   "outputs": [],
   "source": [
    "c = 0.1"
   ]
  },
  {
   "cell_type": "code",
   "execution_count": 145,
   "metadata": {},
   "outputs": [],
   "source": [
    "def sgn(x):\n",
    "    if x >= 0:\n",
    "        return 1\n",
    "    elif x < 0:\n",
    "        return -1 "
   ]
  },
  {
   "cell_type": "code",
   "execution_count": 178,
   "metadata": {},
   "outputs": [],
   "source": [
    "def net(w,x):\n",
    "    sonuc = np.dot(w,x)\n",
    "    \n",
    "    girdi = 3\n",
    "        \n",
    "    while girdi > 0:\n",
    "        \n",
    "        print(\"Adım 1\")\n",
    "        W = w1\n",
    "        if(d1 == sgn(sonuc)):\n",
    "            print(\"w1: \",W)\n",
    "\n",
    "            \n",
    "            \n",
    "            \n",
    "        elif(d1 != sgn(sonuc)):\n",
    "            cikti = W + c*(d1 - sgn(sonuc))*x1\n",
    "            w2 = np.array([cikti[0,0],\n",
    "                           cikti[1,1],\n",
    "                           cikti[2,2],\n",
    "                           cikti[3,3]\n",
    "                         ])\n",
    "            W = w2\n",
    "            print(\"w2: \",W)\n",
    "            \n",
    "        girdi = girdi -1\n",
    "            \n",
    "\n",
    "            \n",
    "            \n",
    "        print(\"Adım 2\")\n",
    "        sonuc = np.dot(W,x2)\n",
    "        if(d2 == sgn(sonuc)):\n",
    "            W = w2\n",
    "            print(\"w2: \",W)\n",
    "            \n",
    "        elif(d2 != sgn(sonuc)):\n",
    "            cikti = W + c*(d2 - sgn(sonuc))*x2\n",
    "            w3 = np.array([cikti[0,0],\n",
    "                           cikti[1,1],\n",
    "                           cikti[2,2],\n",
    "                           cikti[3,3]\n",
    "                         ])\n",
    "            W = w3\n",
    "            print(\"w3: \",W)\n",
    "            \n",
    "        girdi = girdi -1\n",
    "            \n",
    "            \n",
    "                        \n",
    "        print(\"Adım 3\")\n",
    "        sonuc = np.dot(W,x3)\n",
    "        if(d3 == sgn(sonuc)):\n",
    "            W = w2\n",
    "            print(\"w2: \",W)\n",
    "        elif(d3 != sgn(sonuc)):\n",
    "            cikti = W + c*(d3 - sgn(sonuc))*x3\n",
    "            w3 = np.array([cikti[0,0],\n",
    "                           cikti[1,1],\n",
    "                           cikti[2,2],\n",
    "                           cikti[3,3]\n",
    "                         ])\n",
    "            W = w3\n",
    "            print(\"w3: \",W)\n",
    "            \n",
    "        girdi = girdi -1\n",
    "    \n",
    "        "
   ]
  },
  {
   "cell_type": "code",
   "execution_count": 179,
   "metadata": {},
   "outputs": [
    {
     "name": "stdout",
     "output_type": "stream",
     "text": [
      "Adım 1\n",
      "w2:  [ 0.8 -0.6  0.   0.7]\n",
      "Adım 2\n",
      "w2:  [ 0.8 -0.6  0.   0.7]\n",
      "Adım 3\n",
      "w3:  [ 0.6 -0.4  0.1  0.5]\n"
     ]
    }
   ],
   "source": [
    "net(w1,x1)\n",
    "    "
   ]
  },
  {
   "cell_type": "code",
   "execution_count": 180,
   "metadata": {},
   "outputs": [
    {
     "name": "stdout",
     "output_type": "stream",
     "text": [
      "Adım 1\n",
      "w1:  [ 1.   0.5 -1.   1. ]\n",
      "Adım 2\n",
      "w3:  [ 1.   0.2 -0.9  1.2]\n",
      "Adım 3\n",
      "w3:  [ 0.8  0.4 -0.8  1. ]\n"
     ]
    }
   ],
   "source": [
    "#Farklı w1 giriş ile denenmesi:\n",
    "w1 = np.array([1,0.5,-1,1])\n",
    "net(w1,x1)"
   ]
  },
  {
   "cell_type": "code",
   "execution_count": 181,
   "metadata": {},
   "outputs": [
    {
     "name": "stdout",
     "output_type": "stream",
     "text": [
      "Adım 1\n",
      "w2:  [ 0.3 -0.6  1.   0.2]\n",
      "Adım 2\n",
      "w2:  [ 0.3 -0.6  1.   0.2]\n",
      "Adım 3\n",
      "w3:  [ 0.1 -0.4  1.1  0. ]\n"
     ]
    }
   ],
   "source": [
    "#Farklı w1 giriş ile denenmesi:\n",
    "w1 = np.array([0.5,-1,1,0])\n",
    "net(w1,x1)"
   ]
  },
  {
   "cell_type": "code",
   "execution_count": 182,
   "metadata": {},
   "outputs": [
    {
     "name": "stdout",
     "output_type": "stream",
     "text": [
      "Adım 1\n",
      "w2:  [-1.5  3.   1.   2. ]\n",
      "Adım 2\n",
      "w3:  [-1.5  0.   2.   4. ]\n",
      "Adım 3\n",
      "w3:  [-3.5  2.   3.   2. ]\n"
     ]
    }
   ],
   "source": [
    "#Farklı c değeri ile denenmesi:\n",
    "c = 1\n",
    "net(w1,x1)"
   ]
  },
  {
   "cell_type": "code",
   "execution_count": 183,
   "metadata": {},
   "outputs": [
    {
     "name": "stdout",
     "output_type": "stream",
     "text": [
      "Adım 1\n",
      "w2:  [-5.5 11.   1.   6. ]\n",
      "Adım 2\n",
      "w3:  [-5.5  2.   4.  12. ]\n",
      "Adım 3\n",
      "w3:  [-11.5   8.    7.    6. ]\n"
     ]
    }
   ],
   "source": [
    "#Farklı c değeri ile denenmesi:\n",
    "c = 3\n",
    "net(w1,x1)"
   ]
  },
  {
   "cell_type": "code",
   "execution_count": null,
   "metadata": {},
   "outputs": [],
   "source": []
  }
 ],
 "metadata": {
  "kernelspec": {
   "display_name": "Python 3",
   "language": "python",
   "name": "python3"
  },
  "language_info": {
   "codemirror_mode": {
    "name": "ipython",
    "version": 3
   },
   "file_extension": ".py",
   "mimetype": "text/x-python",
   "name": "python",
   "nbconvert_exporter": "python",
   "pygments_lexer": "ipython3",
   "version": "3.7.4"
  }
 },
 "nbformat": 4,
 "nbformat_minor": 2
}
